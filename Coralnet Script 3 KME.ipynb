{
 "cells": [
  {
   "cell_type": "markdown",
   "id": "0af397b8",
   "metadata": {},
   "source": [
    "You have output in the form of csv files stored in your local path as directed.\n",
    "Here's how to put them together into a single file that's human-readable.\n",
    "\n",
    "This is sloppy scripting--feel free to give it a way to iterate through all files by glob if you like. \n",
    "I generally have many batches worth of data to combine. "
   ]
  },
  {
   "cell_type": "code",
   "execution_count": null,
   "id": "07755421",
   "metadata": {},
   "outputs": [],
   "source": [
    "import glob\n",
    "csv_files1 = glob.glob('C:\\\\Users\\\\YOURUSERNAME\\\\Desktop\\\\YOURLOCALFILEOUTPUT\\\\*.csv')\n",
    "#If you have multiple folders of data you can name them here e.g. 'csv_files2...etc'"
   ]
  },
  {
   "cell_type": "code",
   "execution_count": null,
   "id": "3078448a",
   "metadata": {},
   "outputs": [],
   "source": [
    "run1_data = pd.DataFrame()\n",
    "list_ = []\n",
    "for file_ in csv_files1:\n",
    "    df = pd.read_csv(file_,index_col=None,)\n",
    "    list_.append(df)\n",
    "    run1_data = pd.concat(list_)\n",
    "    print(file_ + \" has been imported.\")"
   ]
  },
  {
   "cell_type": "code",
   "execution_count": null,
   "id": "a279bf23",
   "metadata": {},
   "outputs": [],
   "source": [
    "#check that it's the anticipated size\n",
    "run1_data.shape"
   ]
  },
  {
   "cell_type": "code",
   "execution_count": null,
   "id": "c555f764",
   "metadata": {},
   "outputs": [],
   "source": [
    "#if you have multiple folders of data you can do something like this.\n",
    "#finalconcat=pd.concat([run1_data, run2_data, run3_data, run4_data, run5_data, run6_data, run7_data, run8_data, run9_data, run10_data, run11_data, run12_data, run13_data, run14_data], axis=0)"
   ]
  },
  {
   "cell_type": "code",
   "execution_count": null,
   "id": "05c948be",
   "metadata": {},
   "outputs": [],
   "source": [
    "#check that the output is the anticipated size\n",
    "finalconcat.shape"
   ]
  },
  {
   "cell_type": "code",
   "execution_count": null,
   "id": "97db034a",
   "metadata": {},
   "outputs": [],
   "source": [
    "finalconcat.to_csv('C:\\\\Users\\\\YOURUSERNAME\\\\Desktop\\\\YOURLOCALOUTPUTPATH.csv')"
   ]
  }
 ],
 "metadata": {
  "kernelspec": {
   "display_name": "Python 3",
   "language": "python",
   "name": "python3"
  },
  "language_info": {
   "codemirror_mode": {
    "name": "ipython",
    "version": 3
   },
   "file_extension": ".py",
   "mimetype": "text/x-python",
   "name": "python",
   "nbconvert_exporter": "python",
   "pygments_lexer": "ipython3",
   "version": "3.8.8"
  }
 },
 "nbformat": 4,
 "nbformat_minor": 5
}
